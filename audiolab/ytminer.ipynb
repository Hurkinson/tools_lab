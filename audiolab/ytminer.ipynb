{
 "cells": [
  {
   "cell_type": "code",
   "execution_count": 1,
   "metadata": {},
   "outputs": [],
   "source": [
    "import yt_dlp\n",
    "\n",
    "def extraire_audio(url, output_path=\"audio.mp3\"):\n",
    "    try:\n",
    "        # Options pour extraire uniquement l'audio et le convertir en mp3\n",
    "        ydl_opts = {\n",
    "            'format': 'bestaudio/best',\n",
    "            'postprocessors': [{\n",
    "                'key': 'FFmpegExtractAudio',\n",
    "                'preferredcodec': 'mp3',\n",
    "                'preferredquality': '192',\n",
    "            }],\n",
    "            'outtmpl': output_path, \n",
    "        }\n",
    "\n",
    "        with yt_dlp.YoutubeDL(ydl_opts) as ydl:\n",
    "            ydl.download([url])\n",
    "\n",
    "        print(f\"L'audio a été extrait avec succès et sauvegardé sous {output_path}\")\n",
    "    except Exception as e:\n",
    "        print(f\"Erreur lors de l'extraction de l'audio : {e}\")\n"
   ]
  },
  {
   "cell_type": "code",
   "execution_count": 3,
   "metadata": {},
   "outputs": [],
   "source": [
    "breathtaking = \"https://www.youtube.com/watch?v=-78GfV4UhAA\"  # Thom Draft\n",
    "forester = \"https://www.youtube.com/watch?v=BdT8PGD7piY\"      # Commodo\n",
    "mariobros_theme = \"https://www.youtube.com/watch?v=QXN0p5VSUbc\""
   ]
  },
  {
   "cell_type": "code",
   "execution_count": 4,
   "metadata": {},
   "outputs": [
    {
     "name": "stdout",
     "output_type": "stream",
     "text": [
      "[youtube] Extracting URL: https://www.youtube.com/watch?v=QXN0p5VSUbc\n",
      "[youtube] QXN0p5VSUbc: Downloading webpage\n",
      "[youtube] QXN0p5VSUbc: Downloading ios player API JSON\n",
      "[youtube] QXN0p5VSUbc: Downloading web creator player API JSON\n",
      "[youtube] QXN0p5VSUbc: Downloading m3u8 information\n",
      "[info] QXN0p5VSUbc: Downloading 1 format(s): 251\n",
      "[download] Destination: mariobros_theme\n",
      "[download] 100% of    3.54MiB in 00:00:13 at 262.27KiB/s   \n",
      "[ExtractAudio] Destination: mariobros_theme.mp3\n",
      "Deleting original file mariobros_theme (pass -k to keep)\n",
      "L'audio a été extrait avec succès et sauvegardé sous mariobros_theme\n"
     ]
    }
   ],
   "source": [
    "extraire_audio(mariobros_theme, 'mariobros_theme')"
   ]
  }
 ],
 "metadata": {
  "kernelspec": {
   "display_name": "Python 3",
   "language": "python",
   "name": "python3"
  },
  "language_info": {
   "codemirror_mode": {
    "name": "ipython",
    "version": 3
   },
   "file_extension": ".py",
   "mimetype": "text/x-python",
   "name": "python",
   "nbconvert_exporter": "python",
   "pygments_lexer": "ipython3",
   "version": "3.12.7"
  }
 },
 "nbformat": 4,
 "nbformat_minor": 2
}
